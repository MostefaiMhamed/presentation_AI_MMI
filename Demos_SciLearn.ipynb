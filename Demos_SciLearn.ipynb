{
 "cells": [
  {
   "cell_type": "markdown",
   "id": "1ede0d3f",
   "metadata": {},
   "source": [
    "### Demostration R.L."
   ]
  },
  {
   "cell_type": "code",
   "execution_count": null,
   "id": "1ee70772",
   "metadata": {},
   "outputs": [],
   "source": [
    "# Ici on fait appel aux bibliotheques\n",
    "import numpy as np\n",
    "import matplotlib.pyplot as plt\n",
    "from sklearn.datasets import  make_regression\n",
    "from sklearn.linear_model import SGDRegressor"
   ]
  },
  {
   "cell_type": "code",
   "execution_count": null,
   "id": "40ab589d",
   "metadata": {},
   "outputs": [],
   "source": [
    "# on génère nos données (Dataset)\n",
    "np.random.seed(0)\n",
    "x, y = make_regression(n_samples=100, n_features=1, noise=10)\n",
    "plt.scatter(x,y)"
   ]
  },
  {
   "cell_type": "code",
   "execution_count": null,
   "id": "33492044",
   "metadata": {},
   "outputs": [],
   "source": [
    "# on entraine notre modele 100 iterations avec des pas de 0.0001 /1000 - 0.001\n",
    "model = SGDRegressor(max_iter=100, eta0=0.0001)\n",
    "model.fit(x,y)"
   ]
  },
  {
   "cell_type": "code",
   "execution_count": null,
   "id": "ddc9de03",
   "metadata": {},
   "outputs": [],
   "source": [
    "# on affiche les performance ici c'est R2\n",
    "print('Coeff R2 =', model.score(x, y)) \n",
    "plt.scatter(x, y) \n",
    "plt.plot(x, model.predict(x), c='red', lw = 3)"
   ]
  },
  {
   "cell_type": "code",
   "execution_count": null,
   "id": "67bc407d",
   "metadata": {},
   "outputs": [],
   "source": [
    "# prediction \n",
    "predictions = model.predict(x)\n",
    "predictions"
   ]
  },
  {
   "cell_type": "markdown",
   "id": "f820a36e",
   "metadata": {},
   "source": [
    "### Regression polynomiale"
   ]
  },
  {
   "cell_type": "code",
   "execution_count": null,
   "id": "07656b71",
   "metadata": {},
   "outputs": [],
   "source": [
    "from sklearn.preprocessing import PolynomialFeatures"
   ]
  },
  {
   "cell_type": "code",
   "execution_count": null,
   "id": "2d957f55",
   "metadata": {},
   "outputs": [],
   "source": [
    "# creation de données\n",
    "x, y = make_regression(n_samples=100, n_features=1, noise=10)\n",
    "y = y**2 # courbe du second degre"
   ]
  },
  {
   "cell_type": "code",
   "execution_count": null,
   "id": "94d578ff",
   "metadata": {},
   "outputs": [],
   "source": [
    "# on ajoute des variables polynomiales dans nos données\n",
    "poly_features = PolynomialFeatures(degree=2,include_bias=False)\n",
    "x = poly_features.fit_transform(x)"
   ]
  },
  {
   "cell_type": "code",
   "execution_count": null,
   "id": "c988d207",
   "metadata": {},
   "outputs": [],
   "source": [
    "# affichage\n",
    "plt.scatter(x[:,0],y)\n",
    "x.shape # 100 lignes et 2 colonnes"
   ]
  },
  {
   "cell_type": "code",
   "execution_count": null,
   "id": "1711dded",
   "metadata": {},
   "outputs": [],
   "source": [
    "# on entraine le model\n",
    "model = SGDRegressor(max_iter=1000, eta0=0.001)\n",
    "model.fit(x,y)\n",
    "print('Coeff R2 = ',model.score(x,y))"
   ]
  },
  {
   "cell_type": "code",
   "execution_count": null,
   "id": "b7c2bc79",
   "metadata": {},
   "outputs": [],
   "source": [
    "# affichage\n",
    "plt.scatter(x[:,0],y,marker='o')\n",
    "plt.scatter(x[:,0],model.predict(x),marker='+')"
   ]
  },
  {
   "cell_type": "code",
   "execution_count": null,
   "id": "c9499f91",
   "metadata": {},
   "outputs": [],
   "source": []
  }
 ],
 "metadata": {
  "kernelspec": {
   "display_name": "Python 3 (ipykernel)",
   "language": "python",
   "name": "python3"
  },
  "language_info": {
   "codemirror_mode": {
    "name": "ipython",
    "version": 3
   },
   "file_extension": ".py",
   "mimetype": "text/x-python",
   "name": "python",
   "nbconvert_exporter": "python",
   "pygments_lexer": "ipython3",
   "version": "3.9.12"
  }
 },
 "nbformat": 4,
 "nbformat_minor": 5
}
