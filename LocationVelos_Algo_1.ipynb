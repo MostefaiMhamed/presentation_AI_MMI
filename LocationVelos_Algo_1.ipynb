{
 "cells": [
  {
   "cell_type": "markdown",
   "id": "f5ceb246",
   "metadata": {},
   "source": [
    "#### Location de velos de MMICorporation"
   ]
  },
  {
   "cell_type": "code",
   "execution_count": null,
   "id": "00030e9b",
   "metadata": {
    "scrolled": true
   },
   "outputs": [],
   "source": [
    "# lecture du fichier et affichage des 5 1ere lignes\n",
    "import pandas as pd\n",
    "bike_data = pd.read_csv('daily-bike-share.csv')\n",
    "bike_data.head(5)"
   ]
  },
  {
   "cell_type": "code",
   "execution_count": null,
   "id": "cb4b2191",
   "metadata": {},
   "outputs": [],
   "source": [
    "#ajout d'une colonne day (manipulation des données)\n",
    "bike_data['day'] = pd.DatetimeIndex(bike_data['dteday']).day\n",
    "bike_data.head(32)"
   ]
  },
  {
   "cell_type": "code",
   "execution_count": null,
   "id": "bee45b62",
   "metadata": {},
   "outputs": [],
   "source": [
    "# Separation variables et etiquettes\n",
    "X, y = bike_data[['season','mnth', 'holiday','weekday','workingday','weathersit','temp', 'atemp', 'hum', 'windspeed']].values, bike_data['rentals'].values\n",
    "print('Variables:',X[:10], '\\nEtiquettes:', y[:10], sep='\\n')"
   ]
  },
  {
   "cell_type": "code",
   "execution_count": null,
   "id": "f701bde1",
   "metadata": {},
   "outputs": [],
   "source": [
    "#(manipulation des données)\n",
    "from sklearn.model_selection import train_test_split\n",
    "\n",
    "# Split data 70%-30% en données entrainement et données de test \n",
    "X_train, X_test, y_train, y_test = train_test_split(X, y, test_size=0.30, random_state=0)\n",
    "\n",
    "print ('Données entrainement: %d rows\\nDonnées de test: %d rows' % (X_train.shape[0], X_test.shape[0]))"
   ]
  },
  {
   "cell_type": "code",
   "execution_count": 8,
   "id": "3c7966a1",
   "metadata": {},
   "outputs": [
    {
     "name": "stdout",
     "output_type": "stream",
     "text": [
      "LinearRegression()\n"
     ]
    }
   ],
   "source": [
    "# Entrainement du model\n",
    "from sklearn.linear_model import LinearRegression\n",
    "\n",
    "# Regression lineaire sur les données d'entrainement\n",
    "model = LinearRegression().fit(X_train, y_train)\n",
    "print (model)"
   ]
  },
  {
   "cell_type": "code",
   "execution_count": 10,
   "id": "441a67c6",
   "metadata": {},
   "outputs": [
    {
     "name": "stdout",
     "output_type": "stream",
     "text": [
      "Libellés prédits:  [1896. 1184. 1007.  -28.  314.  385.  475.  590. 1476.  -22.]\n",
      "Étiquettes réelles    :  [2418  754  222   47  244  145  240  555 3252   38]\n"
     ]
    }
   ],
   "source": [
    "import numpy as np\n",
    "\n",
    "predictions = model.predict(X_test)\n",
    "np.set_printoptions(suppress=True)\n",
    "print('Libellés prédits: ', np.round(predictions)[:10])\n",
    "print('Étiquettes réelles    : ' ,y_test[:10])"
   ]
  },
  {
   "cell_type": "code",
   "execution_count": 11,
   "id": "8f0353ae",
   "metadata": {},
   "outputs": [
    {
     "data": {
      "image/png": "[encoded data removed]",
      "text/plain": [
       "<Figure size 432x288 with 1 Axes>"
      ]
     },
     "metadata": {
      "needs_background": "light"
     },
     "output_type": "display_data"
    }
   ],
   "source": [
    "import matplotlib.pyplot as plt\n",
    "\n",
    "%matplotlib inline\n",
    "\n",
    "plt.scatter(y_test, predictions)\n",
    "plt.xlabel('Étiquettes réelles')\n",
    "plt.ylabel('Libellés prédits')\n",
    "plt.title('Prédictions quotidiennes de vélo en libre-service')\n",
    "# overlay the regression line\n",
    "z = np.polyfit(y_test, predictions, 1)\n",
    "p = np.poly1d(z)\n",
    "plt.plot(y_test,p(y_test), color='magenta')\n",
    "plt.show()"
   ]
  },
  {
   "cell_type": "code",
   "execution_count": 12,
   "id": "45d02536",
   "metadata": {},
   "outputs": [
    {
     "name": "stdout",
     "output_type": "stream",
     "text": [
      "R2: 0.6040454736919191\n"
     ]
    }
   ],
   "source": [
    "# evaluation de la prediction\n",
    "from sklearn.metrics import mean_squared_error, r2_score\n",
    "r2 = r2_score(y_test, predictions)\n",
    "print(\"R2:\", r2)"
   ]
  },
  {
   "cell_type": "markdown",
   "id": "265fc542",
   "metadata": {},
   "source": [
    "## c'est tres moyen"
   ]
  }
 ],
 "metadata": {
  "kernelspec": {
   "display_name": "Python 3 (ipykernel)",
   "language": "python",
   "name": "python3"
  },
  "language_info": {
   "codemirror_mode": {
    "name": "ipython",
    "version": 3
   },
   "file_extension": ".py",
   "mimetype": "text/x-python",
   "name": "python",
   "nbconvert_exporter": "python",
   "pygments_lexer": "ipython3",
   "version": "3.9.12"
  }
 },
 "nbformat": 4,
 "nbformat_minor": 5
}
