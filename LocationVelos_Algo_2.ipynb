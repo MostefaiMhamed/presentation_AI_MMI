{
 "cells": [
  {
   "cell_type": "code",
   "execution_count": null,
   "id": "c065c51e",
   "metadata": {},
   "outputs": [],
   "source": [
    "# Chargement des modules pour l'algo et calcul\n",
    "import pandas as pd\n",
    "from sklearn.ensemble import RandomForestRegressor\n",
    "from sklearn.metrics import mean_squared_error, r2_score\n",
    "import numpy as np\n",
    "import matplotlib.pyplot as plt\n",
    "\n",
    "# lecture du fichier et affichage des 5 1ere lignes\n",
    "bike_data = pd.read_csv('daily-bike-share.csv')\n",
    "bike_data.head(5)"
   ]
  },
  {
   "cell_type": "code",
   "execution_count": null,
   "id": "1340a580",
   "metadata": {},
   "outputs": [],
   "source": [
    "bike_data['day'] = pd.DatetimeIndex(bike_data['dteday']).day\n",
    "bike_data.head(32)"
   ]
  },
  {
   "cell_type": "code",
   "execution_count": null,
   "id": "29fb5735",
   "metadata": {},
   "outputs": [],
   "source": [
    "# Separation variables et etiquettes\n",
    "X, y = bike_data[['season','mnth', 'holiday','weekday','workingday','weathersit','temp', 'atemp', 'hum', 'windspeed']].values, bike_data['rentals'].values\n",
    "print('Variables:',X[:10], '\\nEtiquettes:', y[:10], sep='\\n')"
   ]
  },
  {
   "cell_type": "code",
   "execution_count": null,
   "id": "b0e8b564",
   "metadata": {},
   "outputs": [],
   "source": [
    "from sklearn.model_selection import train_test_split\n",
    "\n",
    "# Split data 70%-30% en données entrainement et données de test \n",
    "X_train, X_test, y_train, y_test = train_test_split(X, y, test_size=0.30, random_state=0)\n",
    "\n",
    "print ('Données entrainement: %d rows\\nDonnées de test: %d rows' % (X_train.shape[0], X_test.shape[0]))"
   ]
  },
  {
   "cell_type": "code",
   "execution_count": null,
   "id": "60e1d7f0",
   "metadata": {},
   "outputs": [],
   "source": [
    "# Entrainement du model\n",
    "model = RandomForestRegressor().fit(X_train, y_train)\n",
    "print (model, \"\\n\")\n",
    "\n",
    "# Evaluation du model en utilisant les données de test\n",
    "predictions = model.predict(X_test)\n",
    "\n",
    "r2 = r2_score(y_test, predictions)\n",
    "print(\"R2:\", r2)"
   ]
  },
  {
   "cell_type": "code",
   "execution_count": null,
   "id": "a67526b5",
   "metadata": {},
   "outputs": [],
   "source": [
    "# Tracé prévu vs réel\n",
    "plt.scatter(y_test, predictions)\n",
    "plt.xlabel('Étiquettes réelles')\n",
    "plt.ylabel('Libellés prédits')\n",
    "plt.title('Prédictions quotidiennes de vélo en libre-service')\n",
    "# overlay the regression line\n",
    "z = np.polyfit(y_test, predictions, 1)\n",
    "p = np.poly1d(z)\n",
    "plt.plot(y_test,p(y_test), color='magenta')\n",
    "plt.show()"
   ]
  },
  {
   "cell_type": "code",
   "execution_count": null,
   "id": "05d807a6",
   "metadata": {},
   "outputs": [],
   "source": [
    "import joblib\n",
    "\n",
    "# Save the model as a pickle file\n",
    "filename = './velos_Algo2.pkl'\n",
    "joblib.dump(model, filename)"
   ]
  },
  {
   "cell_type": "code",
   "execution_count": null,
   "id": "be119359",
   "metadata": {},
   "outputs": [],
   "source": [
    "# Charger le modèle à partir du fichier\n",
    "loaded_model = joblib.load(filename)\n",
    "\n",
    "# Créer un tableau numpy contenant une nouvelle observation (par exemple, les informations saisonnières et météorologiques de demain)\n",
    "X_new = np.array([[1,1,0,3,1,1,0.226957,0.22927,0.436957,0.1869]]).astype('float64')\n",
    "print ('Nouvel échantillon : {}'.format(list(X_new[0])))\n",
    "\n",
    "# Use the model to predict tomorrow's rentals\n",
    "result = loaded_model.predict(X_new)\n",
    "print('Prédiction: {:.0f} locations'.format(np.round(result[0])))"
   ]
  },
  {
   "cell_type": "code",
   "execution_count": null,
   "id": "6358c58a",
   "metadata": {},
   "outputs": [],
   "source": [
    "# Un éventail de fonctionnalités basées sur les prévisions météorologiques à cinq jours\n",
    "X_new = np.array([[0,1,1,0,0,1,0.344167,0.363625,0.805833,0.160446],\n",
    "                  [0,1,0,1,0,1,0.363478,0.353739,0.696087,0.248539],\n",
    "                  [0,1,0,2,0,1,0.196364,0.189405,0.437273,0.248309],\n",
    "                  [0,1,0,3,0,1,0.2,0.212122,0.590435,0.160296],\n",
    "                  [0,1,0,4,0,1,0.226957,0.22927,0.436957,0.1869]])\n",
    "\n",
    "# Utiliser le modèle pour prédire les locations\n",
    "results = loaded_model.predict(X_new)\n",
    "print('Prédictions de location sur 5 jours :')\n",
    "for prediction in results:\n",
    "    print(np.round(prediction))"
   ]
  },
  {
   "cell_type": "code",
   "execution_count": null,
   "id": "9a1ef64b",
   "metadata": {},
   "outputs": [],
   "source": []
  }
 ],
 "metadata": {
  "kernelspec": {
   "display_name": "Python 3 (ipykernel)",
   "language": "python",
   "name": "python3"
  },
  "language_info": {
   "codemirror_mode": {
    "name": "ipython",
    "version": 3
   },
   "file_extension": ".py",
   "mimetype": "text/x-python",
   "name": "python",
   "nbconvert_exporter": "python",
   "pygments_lexer": "ipython3",
   "version": "3.9.12"
  }
 },
 "nbformat": 4,
 "nbformat_minor": 5
}
